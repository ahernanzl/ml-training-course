{
 "cells": [
  {
   "cell_type": "markdown",
   "metadata": {},
   "source": [
    "# Caching\n",
    "\n",
    "This notebook illustrate the use of the climetlab cache.\n",
    "\n",
    "The relevant Climetlab documentation is located at https://climetlab.readthedocs.io/en/latest/guide/caching.html\n",
    "\n",
    "Relevant CliMetLab settings are:\n",
    "- cache-directory \n",
    "- maximum-cache-disk-usage \n",
    "- maximum-cache-size"
   ]
  },
  {
   "cell_type": "code",
   "execution_count": null,
   "metadata": {},
   "outputs": [],
   "source": [
    "import climetlab as cml\n",
    "URL = \"https://www.ncei.noaa.gov/data/international-best-track-archive-for-climate-stewardship-ibtracs/v04r00/access/csv/ibtracs.SP.list.v04r00.csv\""
   ]
  },
  {
   "cell_type": "markdown",
   "metadata": {},
   "source": [
    "Using ``cml.load_source(\"url\",...)`` stores the data in the climetlab cache.  "
   ]
  },
  {
   "cell_type": "code",
   "execution_count": null,
   "metadata": {},
   "outputs": [],
   "source": [
    "data = cml.load_source(\"url\", URL)\n",
    "# pd = data.to_pandas()"
   ]
  },
  {
   "cell_type": "markdown",
   "metadata": {},
   "source": [
    "Next call to the same code does not redownload the data."
   ]
  },
  {
   "cell_type": "code",
   "execution_count": null,
   "metadata": {},
   "outputs": [],
   "source": [
    "data = cml.load_source(\"url\", URL)\n",
    "# pd = data.to_pandas()"
   ]
  },
  {
   "cell_type": "markdown",
   "metadata": {},
   "source": [
    "The downloaded data is actually store in a cache directory, managed by CliMetLab, using a small database. Data is also unzipped if needed within the cache directory.\n",
    "\n",
    "The cache can be observed and manipulated:\n",
    "- Within python using ``cml.cache``\n",
    "- With command line interface ``climetlab cache`` and ``climetlab decache``\n",
    "- Using the web interface GUI (in progress: summer of code project https://github.com/ecmwf-lab/climetlab-script-web)\n",
    "- NOT by playing directly with the cache files (same logic as a web browser cache)."
   ]
  },
  {
   "cell_type": "code",
   "execution_count": null,
   "metadata": {},
   "outputs": [],
   "source": [
    "cml.cache"
   ]
  },
  {
   "cell_type": "code",
   "execution_count": null,
   "metadata": {},
   "outputs": [],
   "source": [
    "!climetlab cache"
   ]
  },
  {
   "cell_type": "code",
   "execution_count": null,
   "metadata": {},
   "outputs": [],
   "source": [
    "!climetlab cache --all"
   ]
  },
  {
   "cell_type": "code",
   "execution_count": null,
   "metadata": {},
   "outputs": [],
   "source": [
    "!climetlab cache --newer 1d"
   ]
  },
  {
   "cell_type": "code",
   "execution_count": null,
   "metadata": {},
   "outputs": [],
   "source": [
    "!climetlab cache --help"
   ]
  },
  {
   "cell_type": "code",
   "execution_count": null,
   "metadata": {},
   "outputs": [],
   "source": [
    "# Delete cached data newer than 1d\n",
    "# !climetlab decache --newer 1d"
   ]
  },
  {
   "cell_type": "markdown",
   "metadata": {},
   "source": [
    "# Configuring CliMetLab cache settings"
   ]
  },
  {
   "cell_type": "code",
   "execution_count": null,
   "metadata": {},
   "outputs": [],
   "source": [
    "!climetlab settings cache-directory \n",
    "!climetlab settings maximum-cache-disk-usage \n",
    "!climetlab settings maximum-cache-size  "
   ]
  },
  {
   "cell_type": "markdown",
   "metadata": {},
   "source": [
    "# Concurrent cache use\n",
    "\n",
    "If the cache is full, the older data is automatically deleted (with a log message). \n",
    "When multiple scripts are using the same cache this may lead to a file being deleted (because the cache is full), even if it is currently in use by another script.\n",
    " \n",
    "\n",
    "\n"
   ]
  },
  {
   "cell_type": "code",
   "execution_count": 21,
   "metadata": {},
   "outputs": [],
   "source": [
    "import climetlab as cml\n",
    "cml.settings.set(\"maximum-cache-size\", \"2k\")"
   ]
  },
  {
   "cell_type": "markdown",
   "metadata": {},
   "source": [
    "Exercice:\n",
    "- Set the 'maximum-cache-size' to 2K (see above).\n",
    "- Run script get_nc.py.\n",
    "- Run script get_grib.py.\n",
    "- Run script get_nc.py.\n",
    "- See what happens.\n",
    "- Reset all settings (cml.settings.reset())"
   ]
  },
  {
   "cell_type": "markdown",
   "metadata": {},
   "source": [
    "-> The climetlab cache is a cache: it is automatically cleaned up.\n",
    "-> Multiple users should not share the same cache directory."
   ]
  },
  {
   "cell_type": "code",
   "execution_count": 22,
   "metadata": {},
   "outputs": [],
   "source": [
    "cml.settings.reset()"
   ]
  }
 ],
 "metadata": {
  "kernelspec": {
   "display_name": "Python 3",
   "language": "python",
   "name": "python3"
  },
  "language_info": {
   "codemirror_mode": {
    "name": "ipython",
    "version": 3
   },
   "file_extension": ".py",
   "mimetype": "text/x-python",
   "name": "python",
   "nbconvert_exporter": "python",
   "pygments_lexer": "ipython3",
   "version": "3.9.12"
  }
 },
 "nbformat": 4,
 "nbformat_minor": 4
}
