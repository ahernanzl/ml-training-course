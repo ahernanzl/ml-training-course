{
 "cells": [
  {
   "cell_type": "markdown",
   "metadata": {},
   "source": [
    "# Sharing code next to the data with CliMetLab\n",
    "\n",
    "Relevant CliMetLab documentation is here: https://climetlab.readthedocs.io/en/latest/contributing/overview.html"
   ]
  },
  {
   "cell_type": "markdown",
   "metadata": {},
   "source": [
    "# Sharing code\n",
    "\n",
    "\n"
   ]
  },
  {
   "cell_type": "markdown",
   "metadata": {},
   "source": [
    "**Excercice**:\n",
    "\n",
    "Create a dataset plugin for the data `forecast_error.csv` and `soil_temperature.csv`. (These files are located next to this notebook).\n",
    "\n",
    "- Step 1: Create the plugin boilerplate structure using climetlab-plugin-tools.\n",
    "- Step 2: Add your code to the plugin."
   ]
  },
  {
   "cell_type": "code",
   "execution_count": null,
   "metadata": {},
   "outputs": [],
   "source": [
    "!ls *.csv"
   ]
  },
  {
   "cell_type": "markdown",
   "metadata": {},
   "source": [
    "#### Step 1: Create the plugin boilerplate structure using climetlab-plugin-tools."
   ]
  },
  {
   "cell_type": "code",
   "execution_count": null,
   "metadata": {},
   "outputs": [],
   "source": [
    "!climetlab help"
   ]
  },
  {
   "cell_type": "code",
   "execution_count": null,
   "metadata": {},
   "outputs": [],
   "source": [
    "!pip install climetlab-plugin-tools --quiet"
   ]
  },
  {
   "cell_type": "code",
   "execution_count": null,
   "metadata": {},
   "outputs": [],
   "source": [
    "!climetlab help"
   ]
  },
  {
   "cell_type": "code",
   "execution_count": null,
   "metadata": {
    "vscode": {
     "languageId": "shellscript"
    }
   },
   "outputs": [],
   "source": [
    "# From a shell terminal:\n",
    "# $ climetlab\n",
    "# (climetlab) create_plugin_dataset\n",
    "# Answer questions..."
   ]
  },
  {
   "cell_type": "markdown",
   "metadata": {},
   "source": [
    "Questions:\n",
    "- What is the convention for a CliMetLab plugin package?\n",
    "- What is the convention for a dataset name?\n",
    "\n",
    "We need feedback:\n",
    "- How easy is creating a plugin?"
   ]
  },
  {
   "cell_type": "markdown",
   "metadata": {},
   "source": [
    "#### Step 2: Add your code to the plugin.\n",
    "Here is the file you want to edit."
   ]
  },
  {
   "cell_type": "code",
   "execution_count": null,
   "metadata": {},
   "outputs": [],
   "source": [
    "!ls climetlab-*/climetlab_*/*.py"
   ]
  },
  {
   "cell_type": "code",
   "execution_count": null,
   "metadata": {},
   "outputs": [],
   "source": [
    "@normalize(\"parameter\", [\"tp\", \"t2m\"])\n",
    "def __init__(self, year, parameter):\n",
    "    request = dict(parameter=parameter, url=URL, year=year)\n",
    "    self.source = cml.load_source(\"url-pattern\", PATTERN, request)"
   ]
  },
  {
   "cell_type": "markdown",
   "metadata": {},
   "source": [
    "Solution:"
   ]
  },
  {
   "cell_type": "code",
   "execution_count": null,
   "metadata": {},
   "outputs": [],
   "source": [
    "def __init__(self, parameter):\n",
    "    self.source = cml.load_source(\"file\", parameter + '.csv')\n",
    "    # For a real plugin use \"url\" or \"url-pattern\" sources:\n",
    "    # self.source = cml.load_source(\"url\", URL_PREFIX + parameter + '.csv')\n",
    "    # self.source = cml.load_source(\"url-pattern\", PATTERN, {\"parameter\": parameter} )"
   ]
  },
  {
   "cell_type": "markdown",
   "metadata": {},
   "source": [
    "Let us test this:"
   ]
  },
  {
   "cell_type": "code",
   "execution_count": null,
   "metadata": {},
   "outputs": [],
   "source": [
    "import climetlab as cml \n",
    "ds = cml.load_dataset('my-plugin', parameter = 'soil_temperature')"
   ]
  },
  {
   "cell_type": "markdown",
   "metadata": {},
   "source": [
    "**Excercice**: What is not working? What is missing?"
   ]
  },
  {
   "cell_type": "markdown",
   "metadata": {},
   "source": [
    "Solution: \n",
    "\n",
    "The `pip` package need to be installed.  (Suggested: `pip install -e ./climetlab-my-plugin/.` + reload the kernel)"
   ]
  },
  {
   "cell_type": "code",
   "execution_count": null,
   "metadata": {},
   "outputs": [],
   "source": [
    "import climetlab as cml \n",
    "cml.load_dataset('my-plugin', parameter = 'soil_temperature').to_pandas()\n"
   ]
  },
  {
   "cell_type": "code",
   "execution_count": null,
   "metadata": {},
   "outputs": [],
   "source": [
    "cml.load_dataset('my-plugin', parameter = 'forecast_error').to_pandas()"
   ]
  },
  {
   "cell_type": "markdown",
   "metadata": {},
   "source": [
    "# Improving data usability:\n",
    "Data can be access as panda dataframe. Can we do better to help the end-user handling the data?\n",
    "\n",
    "What about helping them fixing a typo?"
   ]
  },
  {
   "cell_type": "code",
   "execution_count": null,
   "metadata": {},
   "outputs": [],
   "source": [
    "import climetlab as cml\n",
    "cml.load_dataset('my-plugin', parameter = 'soiltemperature')"
   ]
  },
  {
   "cell_type": "code",
   "execution_count": null,
   "metadata": {},
   "outputs": [],
   "source": [
    "# Add the climetlab decorator `@normalize`\n",
    "@normalize(\"parameter\", ['soil_temperature', 'forecast_error'])\n",
    "def __init__(self, parameter):\n",
    "    ...\n",
    "\n",
    "# And retry previous cell."
   ]
  },
  {
   "cell_type": "markdown",
   "metadata": {},
   "source": [
    "This also take care of user using capitals:"
   ]
  },
  {
   "cell_type": "code",
   "execution_count": null,
   "metadata": {},
   "outputs": [],
   "source": [
    "import climetlab as cml\n",
    "ds = cml.load_dataset('my-plugin', parameter = 'SOIL_TEMPERATURE') # ok\n",
    "ds = cml.load_dataset('my-plugin', parameter = 'Soil_Temperature') # ok"
   ]
  },
  {
   "cell_type": "markdown",
   "metadata": {},
   "source": [
    "**Excercice**:\n",
    "\n",
    "Adapt the plugin to use the zipped csv files instead of the csv files."
   ]
  },
  {
   "cell_type": "code",
   "execution_count": null,
   "metadata": {},
   "outputs": [],
   "source": [
    "!ls *.zip"
   ]
  },
  {
   "cell_type": "markdown",
   "metadata": {},
   "source": [
    "Solution:\n",
    "\n",
    "Replace \"csv\" by \"zip\"."
   ]
  },
  {
   "cell_type": "markdown",
   "metadata": {},
   "source": [
    "# Dates time parameters\n",
    "Date and time as some ubiquitous in the climate and meteorology domains that we have developed specific tools to handle these input arguments.\n",
    "\n",
    "Similar to `@normalize(\"parameter\", ['soil_temperature', 'forecast_error'])`\n",
    "\n",
    "Adding `@normalize(\"argument\", \"date(%Y-%m-%d)\")` transforms the input as a string with the requested format.\n",
    "\n",
    "Relevant CliMetLab documentation: https://climetlab.readthedocs.io/en/latest/contributing/normalize.html"
   ]
  },
  {
   "cell_type": "markdown",
   "metadata": {},
   "source": [
    "# CliMetLab dataset plugin tour:\n",
    "\n",
    "https://github.com/mchantry/climetlab-mltc-surface-observation-postprocessing\n",
    "\n",
    "- Python pip package structure:\n",
    "\t- setup.py + MANIFEST\n",
    "\t- version file\n",
    "- README\n",
    "\t- Links to notebook in colab/binder/etc. \n",
    "- Examples in notebooks:\n",
    "\t- Used in README links\n",
    "\t- Tested in github actions.\n",
    "- Test in tests/*\n",
    "\t- Using pytest.\n",
    "\t- Used in github actions.\n",
    "- Github actions: yaml files in .github/workflows/*.yml\n",
    "\t- Check code quality\n",
    "\t- Run tests (fron tests/*.py) on various platform and python versions\n",
    "- Automated release of the pip package from github (need and account on pypi.org)\n",
    "\t- Make sure the tests pass.\n",
    "\t- Update the */version file\n",
    "\t- Trigger a release : https://docs.github.com/en/repositories/releasing-projects-on-github/managing-releases-in-a-repository\n",
    "- Legal stuff: LICENCE/AUTHOR/CONTRIBUTORS\n"
   ]
  },
  {
   "cell_type": "markdown",
   "metadata": {},
   "source": [
    "Exercices:\n",
    "- Create an account on github.com\n",
    "- Create an account on pypi.org\n",
    "- Create an account on test.pypi.org\n",
    "- Publish a plugin on test.pypi.org\n",
    "\n",
    "\n"
   ]
  },
  {
   "cell_type": "markdown",
   "metadata": {},
   "source": [
    "Exercice (optional):\n",
    "- Choose your favorite data.\n",
    "- Create the corresponding plugin.\n",
    "- Tell us what is missing."
   ]
  },
  {
   "cell_type": "markdown",
   "metadata": {},
   "source": [
    "# Automatic merging (not fully implemented yet)"
   ]
  },
  {
   "cell_type": "code",
   "execution_count": null,
   "metadata": {},
   "outputs": [],
   "source": [
    "# What about merging data in one panda dataframe?\n",
    "import climetlab as cml\n",
    "cml.load_dataset('my-plugin', parameter = ['soil_temperature', 'forecast_error']).to_pandas()"
   ]
  },
  {
   "cell_type": "markdown",
   "metadata": {},
   "source": [
    "# CliMetLab architecture\n",
    "Use modularity of object programming : Dedicated classes to handle specific user requests. \n",
    "\n",
    "Such as:\n",
    "- Read a file with a given format\n",
    "- Download data from a given source type\n",
    "- Plot given data to a given backend\n",
    "- …\n",
    "\n",
    "Each class knows if it can handle a user request:  **“Ask the classes if they can handle the user request”**\n",
    "- Dataset->source->reader\n",
    "- Mutate.\n",
    "\n",
    "![ARCHITECTURE](architecture.png)"
   ]
  },
  {
   "cell_type": "code",
   "execution_count": null,
   "metadata": {},
   "outputs": [],
   "source": [
    "s = cml.load_source('file', 'forecast_error.csv')\n",
    "print(s)\n",
    "s = cml.load_source('file', 'forecast_error.zip')\n",
    "print(s)\n",
    "s = cml.load_source('file', 'a.nc')\n",
    "print(s)"
   ]
  },
  {
   "cell_type": "markdown",
   "metadata": {},
   "source": [
    "# Source plugin (advanced)\n",
    "\n",
    "**Excercice**:\n",
    "\n",
    "Create a source plugin for a source named 'my-new-source'.\n",
    "\n",
    "- Step 1: Create the plugin boilerplate structure using climetlab-plugin-tools.\n",
    "- Step 2: Add your code to the plugin.\n",
    "\n"
   ]
  },
  {
   "cell_type": "code",
   "execution_count": null,
   "metadata": {
    "vscode": {
     "languageId": "shellscript"
    }
   },
   "outputs": [],
   "source": [
    "# From a shell terminal:\n",
    "# $ pip install climetlab-plugin-tools\n",
    "# $ climetlab\n",
    "# (climetlab) create_plugin_source\n",
    "# Answer questions..."
   ]
  },
  {
   "cell_type": "code",
   "execution_count": null,
   "metadata": {
    "vscode": {
     "languageId": "shellscript"
    }
   },
   "outputs": [],
   "source": [
    "# Test using source:\n",
    "cml.load_source('my-new-source', arg='soil_temperature')"
   ]
  },
  {
   "cell_type": "markdown",
   "metadata": {},
   "source": [
    "Solution:\n",
    "\n",
    "Compare to https://github.com/ecmwf/climetlab-demo-source/blob/master/climetlab_demo_source/__init__.py\n",
    "\n",
    "Compare to https://github.com/ecmwf-lab/climetlab-google-drive-source/blob/main/climetlab_google_drive_source/__init__.py"
   ]
  },
  {
   "cell_type": "markdown",
   "metadata": {},
   "source": [
    "### Multi-sources\n",
    "\n",
    "Merging several sources is a common pattern. Here is a preview of how it could work.\n",
    "\n",
    "We need to see more examples of merging sources of data to provide the right tool for the community."
   ]
  },
  {
   "cell_type": "code",
   "execution_count": null,
   "metadata": {},
   "outputs": [],
   "source": [
    "import climetlab as cml"
   ]
  },
  {
   "cell_type": "code",
   "execution_count": null,
   "metadata": {},
   "outputs": [],
   "source": [
    "# Data from  https://pangeo-forge.readthedocs.io/en/latest/tutorials/terraclimate.html\n",
    "\n",
    "aet1 = cml.load_source('url', 'http://thredds.northwestknowledge.net:8080/thredds/fileServer/TERRACLIMATE_ALL/data/TerraClimate_aet_1958.nc')\n",
    "aet2 = cml.load_source('url', 'http://thredds.northwestknowledge.net:8080/thredds/fileServer/TERRACLIMATE_ALL/data/TerraClimate_aet_1959.nc')\n",
    "def1 = cml.load_source('url', 'http://thredds.northwestknowledge.net:8080/thredds/fileServer/TERRACLIMATE_ALL/data/TerraClimate_def_1959.nc')"
   ]
  },
  {
   "cell_type": "code",
   "execution_count": null,
   "metadata": {},
   "outputs": [],
   "source": [
    "aet1.to_xarray()"
   ]
  },
  {
   "cell_type": "code",
   "execution_count": null,
   "metadata": {},
   "outputs": [],
   "source": [
    "aet2.to_xarray()"
   ]
  },
  {
   "cell_type": "code",
   "execution_count": null,
   "metadata": {},
   "outputs": [],
   "source": [
    "def1.to_xarray()"
   ]
  },
  {
   "cell_type": "code",
   "execution_count": null,
   "metadata": {},
   "outputs": [],
   "source": [
    "s = cml.load_source('multi', [aet1, def1, aet2])\n",
    "print(s)\n",
    "s.to_xarray()"
   ]
  },
  {
   "cell_type": "code",
   "execution_count": null,
   "metadata": {},
   "outputs": [],
   "source": [
    "s = cml.load_source('multi', [aet1, aet2], merger='concat(concat_dim=time)')\n",
    "print(s)\n",
    "s.to_xarray()"
   ]
  },
  {
   "cell_type": "markdown",
   "metadata": {},
   "source": [
    "\n",
    "Note how the 'url-pattern' source can help here: parallel download and merging."
   ]
  },
  {
   "cell_type": "code",
   "execution_count": null,
   "metadata": {},
   "outputs": [],
   "source": [
    "PATTERN = 'http://thredds.northwestknowledge.net:8080/thredds/fileServer/TERRACLIMATE_ALL/data/TerraClimate_{parameter}_{year}.nc'\n",
    "s = cml.load_source('url-pattern', PATTERN, dict(year=[1961], parameter=['aet', 'def']))"
   ]
  },
  {
   "cell_type": "code",
   "execution_count": null,
   "metadata": {},
   "outputs": [],
   "source": [
    "s.to_xarray()"
   ]
  },
  {
   "cell_type": "markdown",
   "metadata": {},
   "source": [
    "# Mirrors"
   ]
  },
  {
   "cell_type": "markdown",
   "metadata": {},
   "source": [
    "Draft feature: mirroring remote data on a local storage service.\n",
    "\n",
    "Need more development and discussions."
   ]
  },
  {
   "cell_type": "code",
   "execution_count": null,
   "metadata": {},
   "outputs": [],
   "source": [
    "!echo $CLIMETLAB_MIRROR"
   ]
  }
 ],
 "metadata": {
  "kernelspec": {
   "display_name": "Python 3",
   "language": "python",
   "name": "python3"
  },
  "language_info": {
   "codemirror_mode": {
    "name": "ipython",
    "version": 3
   },
   "file_extension": ".py",
   "mimetype": "text/x-python",
   "name": "python",
   "nbconvert_exporter": "python",
   "pygments_lexer": "ipython3",
   "version": "3.9.12"
  }
 },
 "nbformat": 4,
 "nbformat_minor": 4
}
